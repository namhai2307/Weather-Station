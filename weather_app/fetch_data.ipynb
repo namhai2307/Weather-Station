{
 "cells": [
  {
   "cell_type": "code",
   "execution_count": 43,
   "metadata": {},
   "outputs": [],
   "source": [
    "import time\n",
    "from datetime import datetime\n",
    "from bs4 import BeautifulSoup, element\n",
    "import requests\n",
    "import json\n",
    "import gspread\n",
    "from oauth2client.service_account import ServiceAccountCredentials\n",
    "import pandas as pd"
   ]
  },
  {
   "cell_type": "code",
   "execution_count": 45,
   "metadata": {},
   "outputs": [],
   "source": [
    "scopes = [\n",
    "    \"https://www.googleapis.com/auth/spreadsheets\",\n",
    "    \"https://www.googleapis.com/auth/drive\"\n",
    "]\n",
    "creds = ServiceAccountCredentials.from_json_keyfile_name(\"C://Users//namha//OneDrive//Desktop//weather_app//weather-station-data-450411-cf435c67b400.json\", scopes=scopes)\n",
    "\n",
    "file = gspread.authorize(creds)\n",
    "workbook = file.open(\"Weather Data\")\n",
    "sheet = workbook.sheet1\n",
    "#print(sheet.acell('A1').value)"
   ]
  },
  {
   "cell_type": "code",
   "execution_count": null,
   "metadata": {},
   "outputs": [],
   "source": [
    "def extract_data(url):\n",
    "    respone = requests.get(url)\n",
    "    return respone.text\n",
    "\n",
    "def process():\n",
    "    data = extract_data(\"http://192.168.1.167/sensor\")\n",
    "    weather_dict = json.loads(data)\n",
    "    timestamp = datetime.now().strftime(\"%Y-%m-%d %H:%M:%S\")  # Format: YYYY-MM-DD HH:MM:SS\n",
    "\n",
    "    temperature = weather_dict.get(\"temperature\", \"N/A\")\n",
    "    humidity = weather_dict.get(\"humidity\", \"N/A\")\n",
    "    rain = weather_dict.get(\"rain_volume\", \"N/A\")\n",
    "    uv_index = weather_dict.get(\"uv_index\", \"N/A\")\n",
    "    lux = weather_dict.get(\"lux\", \"N/A\")\n",
    "    pressure = weather_dict.get(\"air_pressure\", \"N/A\")\n",
    "    wind_speed = weather_dict.get(\"wind_speed\", \"N/A\")\n",
    "\n",
    "    # Append data to the Google Sheet\n",
    "    sheet.append_row([timestamp, temperature, humidity, rain, uv_index, lux, pressure, wind_speed])\n",
    "    print(weather_dict)"
   ]
  },
  {
   "cell_type": "code",
   "execution_count": null,
   "metadata": {},
   "outputs": [],
   "source": [
    "sheet.append_row(['time', 'temperature (°C)', 'humidity (%)', 'raining?', 'uv index', 'light intensity (LUX)', 'air pressure (Pa)', 'wind speed (m/s)'])\n",
    "while True:\n",
    "    process()\n",
    "    time.sleep(10)"
   ]
  }
 ],
 "metadata": {
  "kernelspec": {
   "display_name": "Python 3",
   "language": "python",
   "name": "python3"
  },
  "language_info": {
   "codemirror_mode": {
    "name": "ipython",
    "version": 3
   },
   "file_extension": ".py",
   "mimetype": "text/x-python",
   "name": "python",
   "nbconvert_exporter": "python",
   "pygments_lexer": "ipython3",
   "version": "3.12.1"
  }
 },
 "nbformat": 4,
 "nbformat_minor": 2
}
